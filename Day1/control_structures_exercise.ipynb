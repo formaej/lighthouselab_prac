{
 "cells": [
  {
   "cell_type": "markdown",
   "metadata": {
    "jupyter": {
     "source_hidden": true
    }
   },
   "source": [
    "# Simple exercises for control structures in Python\n",
    "- conditionals\n",
    "- while loops\n",
    "- for loops"
   ]
  },
  {
   "cell_type": "code",
   "execution_count": null,
   "metadata": {},
   "outputs": [],
   "source": []
  },
  {
   "cell_type": "markdown",
   "metadata": {},
   "source": [
    "## IF Statement"
   ]
  },
  {
   "cell_type": "markdown",
   "metadata": {},
   "source": [
    "#### Assign 8 to the variable `x` and 15 to the variable `y`."
   ]
  },
  {
   "cell_type": "code",
   "execution_count": 2,
   "metadata": {},
   "outputs": [],
   "source": [
    "x=8\n",
    "y=15"
   ]
  },
  {
   "cell_type": "code",
   "execution_count": null,
   "metadata": {},
   "outputs": [],
   "source": []
  },
  {
   "cell_type": "markdown",
   "metadata": {},
   "source": [
    "#### Create **if** statement that prints “At least one of the conditions is satisfied.” if `x` is greater than 3 or `y` is even."
   ]
  },
  {
   "cell_type": "code",
   "execution_count": 5,
   "metadata": {},
   "outputs": [
    {
     "name": "stdout",
     "output_type": "stream",
     "text": [
      "At least one of the conditions is satisfied\n"
     ]
    }
   ],
   "source": [
    "if x>3 or y % 2 ==0:\n",
    "    print('At least one of the conditions is satisfied')"
   ]
  },
  {
   "cell_type": "code",
   "execution_count": null,
   "metadata": {},
   "outputs": [],
   "source": []
  },
  {
   "cell_type": "markdown",
   "metadata": {},
   "source": [
    "#### Create **if** statement that prints “Neither condition is satisfied.” if `x` is less than or equal to 3 and `y` is odd."
   ]
  },
  {
   "cell_type": "code",
   "execution_count": 6,
   "metadata": {},
   "outputs": [
    {
     "name": "stdout",
     "output_type": "stream",
     "text": [
      "Neither conditions is satisfied\n"
     ]
    }
   ],
   "source": [
    "if x<=3 or y % 2 !=0:\n",
    "    print('Neither conditions is satisfied')"
   ]
  },
  {
   "cell_type": "code",
   "execution_count": null,
   "metadata": {},
   "outputs": [],
   "source": []
  },
  {
   "cell_type": "markdown",
   "metadata": {},
   "source": [
    "#### Change the values assigned to `x` and `y` and re-run the cells to verify your code still works."
   ]
  },
  {
   "cell_type": "code",
   "execution_count": 7,
   "metadata": {},
   "outputs": [],
   "source": [
    "x=10\n",
    "y=7"
   ]
  },
  {
   "cell_type": "code",
   "execution_count": 8,
   "metadata": {},
   "outputs": [
    {
     "name": "stdout",
     "output_type": "stream",
     "text": [
      "At least one of the conditions is satisfied\n"
     ]
    }
   ],
   "source": [
    "if x>3 or y % 2 ==0:\n",
    "    print('At least one of the conditions is satisfied')"
   ]
  },
  {
   "cell_type": "code",
   "execution_count": 9,
   "metadata": {},
   "outputs": [
    {
     "name": "stdout",
     "output_type": "stream",
     "text": [
      "Neither conditions is satisfied\n"
     ]
    }
   ],
   "source": [
    "if x<=3 or y % 2 !=0:\n",
    "    print('Neither conditions is satisfied')"
   ]
  },
  {
   "cell_type": "markdown",
   "metadata": {},
   "source": [
    "## FOR loop"
   ]
  },
  {
   "cell_type": "code",
   "execution_count": 11,
   "metadata": {},
   "outputs": [],
   "source": [
    "heights = [1.82,1.75,1.68,1.76,1.5]"
   ]
  },
  {
   "cell_type": "markdown",
   "metadata": {},
   "source": [
    "#### 0. Use for loop to print values from \"heights\" list "
   ]
  },
  {
   "cell_type": "code",
   "execution_count": 12,
   "metadata": {},
   "outputs": [
    {
     "name": "stdout",
     "output_type": "stream",
     "text": [
      "1.82\n",
      "1.75\n",
      "1.68\n",
      "1.76\n",
      "1.5\n"
     ]
    }
   ],
   "source": [
    "for height in heights:\n",
    "    print(height)"
   ]
  },
  {
   "cell_type": "code",
   "execution_count": null,
   "metadata": {},
   "outputs": [],
   "source": []
  },
  {
   "cell_type": "markdown",
   "metadata": {},
   "source": [
    "#### 1. Use for loop for printing only values bigger than 1.75"
   ]
  },
  {
   "cell_type": "code",
   "execution_count": 13,
   "metadata": {},
   "outputs": [
    {
     "name": "stdout",
     "output_type": "stream",
     "text": [
      "1.82\n",
      "1.76\n"
     ]
    }
   ],
   "source": [
    "for height in heights:\n",
    "    if height > 1.75:\n",
    "        print(height)"
   ]
  },
  {
   "cell_type": "code",
   "execution_count": null,
   "metadata": {},
   "outputs": [],
   "source": []
  },
  {
   "cell_type": "markdown",
   "metadata": {},
   "source": [
    "#### 2. Use for loop for printing all values until you find value 1.68 (included)"
   ]
  },
  {
   "cell_type": "code",
   "execution_count": 14,
   "metadata": {},
   "outputs": [
    {
     "name": "stdout",
     "output_type": "stream",
     "text": [
      "1.82\n",
      "1.75\n",
      "1.68\n"
     ]
    }
   ],
   "source": [
    "for height in heights:\n",
    "    if height == 1.68:\n",
    "        print(height)\n",
    "        break\n",
    "    print(height)"
   ]
  },
  {
   "cell_type": "code",
   "execution_count": null,
   "metadata": {},
   "outputs": [],
   "source": []
  },
  {
   "cell_type": "markdown",
   "metadata": {},
   "source": [
    "#### 3. Modify the previous loop to print all values from `\"heights\"` without value 1.68"
   ]
  },
  {
   "cell_type": "code",
   "execution_count": 15,
   "metadata": {},
   "outputs": [
    {
     "name": "stdout",
     "output_type": "stream",
     "text": [
      "1.82\n",
      "1.75\n",
      "1.76\n",
      "1.5\n"
     ]
    }
   ],
   "source": [
    "for height in heights:\n",
    "    if height == 1.68:\n",
    "        continue\n",
    "    print(height)"
   ]
  },
  {
   "cell_type": "code",
   "execution_count": null,
   "metadata": {},
   "outputs": [],
   "source": []
  },
  {
   "cell_type": "markdown",
   "metadata": {},
   "source": [
    "#### 4. use for loop over to iterate over `\"heights\"` and print \"high\" for values bigger than 1.75, \"medium\" for values between 1.68 and 1.75 and \"small\" for values lower than 1.68"
   ]
  },
  {
   "cell_type": "code",
   "execution_count": 16,
   "metadata": {},
   "outputs": [
    {
     "name": "stdout",
     "output_type": "stream",
     "text": [
      "high\n",
      "medium\n",
      "medium\n",
      "medium\n",
      "high\n",
      "medium\n",
      "small\n",
      "medium\n"
     ]
    }
   ],
   "source": [
    "for height in heights:\n",
    "    if height > 1.75:\n",
    "        print(\"high\")\n",
    "    if height < 1.68:\n",
    "        print(\"small\")\n",
    "    print(\"medium\")"
   ]
  },
  {
   "cell_type": "code",
   "execution_count": null,
   "metadata": {},
   "outputs": [],
   "source": []
  },
  {
   "cell_type": "markdown",
   "metadata": {},
   "source": [
    "## WHILE loop"
   ]
  },
  {
   "cell_type": "markdown",
   "metadata": {},
   "source": [
    "#### 1. Print out numbers from 0 to 4"
   ]
  },
  {
   "cell_type": "code",
   "execution_count": 17,
   "metadata": {},
   "outputs": [
    {
     "name": "stdout",
     "output_type": "stream",
     "text": [
      "0\n",
      "1\n",
      "2\n",
      "3\n",
      "4\n"
     ]
    }
   ],
   "source": [
    "n=0\n",
    "while n < 5:\n",
    "    print(n)\n",
    "    n=n+1"
   ]
  },
  {
   "cell_type": "code",
   "execution_count": null,
   "metadata": {},
   "outputs": [],
   "source": []
  },
  {
   "cell_type": "markdown",
   "metadata": {},
   "source": [
    "#### 2. use while loop to print out only even numbers lower than 15\n",
    "hint : use `\"%\"` modulo operator"
   ]
  },
  {
   "cell_type": "code",
   "execution_count": 18,
   "metadata": {},
   "outputs": [
    {
     "name": "stdout",
     "output_type": "stream",
     "text": [
      "0\n",
      "2\n",
      "4\n",
      "6\n",
      "8\n",
      "10\n",
      "12\n",
      "14\n"
     ]
    }
   ],
   "source": [
    "n=0\n",
    "while n<15:\n",
    "    if n%2==0:\n",
    "        print(n)\n",
    "    n=n+1"
   ]
  },
  {
   "cell_type": "code",
   "execution_count": null,
   "metadata": {},
   "outputs": [],
   "source": []
  },
  {
   "cell_type": "markdown",
   "metadata": {},
   "source": [
    "#### 3. use while loop to print all numbers lower than 15 but skip first five values"
   ]
  },
  {
   "cell_type": "code",
   "execution_count": 20,
   "metadata": {},
   "outputs": [
    {
     "name": "stdout",
     "output_type": "stream",
     "text": [
      "5\n",
      "6\n",
      "7\n",
      "8\n",
      "9\n",
      "10\n",
      "11\n",
      "12\n",
      "13\n",
      "14\n"
     ]
    }
   ],
   "source": [
    "n=0\n",
    "while n<15:\n",
    "    if n>=5:\n",
    "        print(n)\n",
    "    n=n+1\n",
    "    "
   ]
  },
  {
   "cell_type": "code",
   "execution_count": null,
   "metadata": {},
   "outputs": [],
   "source": []
  },
  {
   "cell_type": "markdown",
   "metadata": {},
   "source": [
    "## Actors\n",
    "We have two lists actors and roles which are defined below:"
   ]
  },
  {
   "cell_type": "code",
   "execution_count": 22,
   "metadata": {},
   "outputs": [],
   "source": [
    "actors = [\n",
    "    \"Nathan Fillion\",\n",
    "    \"Gina Torres\",\n",
    "    \"Alan Tudyk\",\n",
    "    \"Morena Baccarin\",\n",
    "    \"Adam Baldwin\",\n",
    "    \"Jewel Staite\",\n",
    "    \"Sean Maher\",\n",
    "    \"Summer Glau\",\n",
    "    \"Ron Glass\"\n",
    "]\n",
    "\n",
    "roles = [\n",
    "    \"Captain Malcolm Reynolds\",\n",
    "    \"Zoe Washburn\",\n",
    "    \"Hoban Washburn\",\n",
    "    \"Inara Serra\",\n",
    "    \"Jayne Cobb\",\n",
    "    \"Kaylee Frye\",\n",
    "    \"Dr. Simon Tam\",\n",
    "    \"River Tam\",\n",
    "    \"Derrial Book\"\n",
    "]"
   ]
  },
  {
   "cell_type": "markdown",
   "metadata": {},
   "source": [
    "We would like to produce a credit reel, by matching each actor with their role in the show. We know that both lists are in the correct order, such that for any number—let's say `n`—we know that `actors[n]` and `roles[n]` match. For example, `actors[3]` gives us \"Morena Baccarin,\" and `roles[3]` gives us \"Inara Serra,\" so we know that Morena Baccarin played Inara Serra in the show. **We want to print out the credits for all of the actors in the list.**\n",
    "\n",
    "Here's an example of what we want to see when the code runs:\n",
    "\n",
    "Featuring:<br>\n",
    "=============<br>\n",
    "Nathan Fillion as Captain Malcolm Reynolds\"<br>\n",
    "...."
   ]
  },
  {
   "cell_type": "code",
   "execution_count": 23,
   "metadata": {},
   "outputs": [
    {
     "name": "stdout",
     "output_type": "stream",
     "text": [
      "Nathan Fillion as Captain Malcolm Reynolds\n",
      "Gina Torres as Zoe Washburn\n",
      "Alan Tudyk as Hoban Washburn\n",
      "Morena Baccarin as Inara Serra\n",
      "Adam Baldwin as Jayne Cobb\n",
      "Jewel Staite as Kaylee Frye\n",
      "Sean Maher as Dr. Simon Tam\n",
      "Summer Glau as River Tam\n",
      "Ron Glass as Derrial Book\n"
     ]
    }
   ],
   "source": [
    "for i in range(len(actors)):\n",
    "    print(actors[i]+\" as \"+roles[i])"
   ]
  },
  {
   "cell_type": "code",
   "execution_count": null,
   "metadata": {},
   "outputs": [],
   "source": []
  },
  {
   "cell_type": "code",
   "execution_count": null,
   "metadata": {},
   "outputs": [],
   "source": []
  },
  {
   "cell_type": "code",
   "execution_count": 32,
   "metadata": {},
   "outputs": [
    {
     "name": "stdout",
     "output_type": "stream",
     "text": [
      "* \n",
      "* * \n",
      "* * * \n",
      "* * * * \n",
      "* * * * * \n",
      "* * * * \n",
      "* * * \n",
      "* * \n",
      "* \n"
     ]
    }
   ],
   "source": [
    "n=1\n",
    "num=4\n",
    "while n<=9:\n",
    "    if n<=5:\n",
    "        print('* '*n)\n",
    "        n+=1\n",
    "    if n>5:\n",
    "        print('* '*num)\n",
    "        num=num-1\n",
    "        n+=1"
   ]
  },
  {
   "cell_type": "code",
   "execution_count": null,
   "metadata": {},
   "outputs": [],
   "source": []
  }
 ],
 "metadata": {
  "kernelspec": {
   "display_name": "Python 3",
   "language": "python",
   "name": "python3"
  },
  "language_info": {
   "codemirror_mode": {
    "name": "ipython",
    "version": 3
   },
   "file_extension": ".py",
   "mimetype": "text/x-python",
   "name": "python",
   "nbconvert_exporter": "python",
   "pygments_lexer": "ipython3",
   "version": "3.7.6"
  }
 },
 "nbformat": 4,
 "nbformat_minor": 4
}
